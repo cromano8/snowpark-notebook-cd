{
 "cells": [
  {
   "attachments": {},
   "cell_type": "markdown",
   "metadata": {},
   "source": [
    "### Establish Snowpark connection and load tables from source data.\n",
    "\n",
    "This notebook is based on example described in [Building and deploying a time series forecast with Hex + Snowflake](https://quickstarts.snowflake.com/guide/hex/index.html#0). This entire example higlights how we can use Snowflake to perform parallel hyperparameter tuning forecasting foot traffic. Please take a look at Chase Romano's article [Parallel Hyperparameter tuning using Snowpark](https://medium.com/snowflake/parallel-hyperparameter-tuning-using-snowpark-53cdec2faf77) for more information.\n",
    "\n",
    "We will begin by establishing our Snowflake connection and Snowpark session. This demo assumes the user has access to the `SYSADMIN` role and a virtual warehouse named `COMPUTE_WH` exists and is available for usage. \n",
    "\n",
    "In the event the database or schema does not exist, the connection will be established without database and schema context, but we will create them in this notebook. "
   ]
  },
  {
   "cell_type": "code",
   "execution_count": 1,
   "metadata": {},
   "outputs": [],
   "source": [
    "from snowflake.snowpark import Session\n",
    "from snowflake.snowpark.types import StringType\n",
    "from snowflake.snowpark.functions import to_date, cast, to_timestamp\n",
    "import pandas as pd\n",
    "import os\n",
    "\n",
    "connection_params = {\n",
    "    \"account\": os.environ.get(\"SNOWFLAKE_ACCOUNT\"),\n",
    "    \"user\": os.environ.get(\"SNOWFLAKE_USER\"),\n",
    "    \"password\": os.environ.get(\"SNOWFLAKE_PASSWORD\"),\n",
    "    \"database\": os.environ.get(\"SNOWFLAKE_DATABASE\"),\n",
    "    \"schema\": os.environ.get(\"SNOWFLAKE_SCHEMA\"),\n",
    "    \"role\": \"SYSADMIN\",\n",
    "    \"warehouse\": \"COMPUTE_WH\",\n",
    "}\n",
    "\n",
    "session = Session.builder.configs(connection_params).create()"
   ]
  },
  {
   "attachments": {},
   "cell_type": "markdown",
   "metadata": {},
   "source": [
    "We connected earlier using the SYSADMIN role and a virtual warehouse named COMPUTE_WH. Let's create a new database and schema in the event that they do not already exist."
   ]
  },
  {
   "cell_type": "code",
   "execution_count": 2,
   "metadata": {},
   "outputs": [
    {
     "data": {
      "text/plain": [
       "[Row(status='Statement executed successfully.')]"
      ]
     },
     "execution_count": 2,
     "metadata": {},
     "output_type": "execute_result"
    }
   ],
   "source": [
    "session.sql(\n",
    "    f\"CREATE DATABASE IF NOT EXISTS {os.environ.get('SNOWFLAKE_DATABASE')}\"\n",
    ").collect()\n",
    "session.sql(\n",
    "    f\"CREATE SCHEMA IF NOT EXISTS {os.environ.get('SNOWFLAKE_DATABASE')}.{os.environ.get('SNOWFLAKE_SCHEMA')}\"\n",
    ").collect()\n",
    "session.sql(f\"USE DATABASE {os.environ.get('SNOWFLAKE_DATABASE')}\").collect()\n",
    "session.sql(\n",
    "    f\"USE SCHEMA {os.environ.get('SNOWFLAKE_DATABASE')}.{os.environ.get('SNOWFLAKE_SCHEMA')}\"\n",
    ").collect()"
   ]
  },
  {
   "attachments": {},
   "cell_type": "markdown",
   "metadata": {},
   "source": [
    "I'm going to create two Pandas DataFrames based on some CSV files that I have available. These files were generated using a process described in [Building and deploying a time series forecast with Hex + Snowflake](https://quickstarts.snowflake.com/guide/hex/index.html#0). The data is in the `data` directory of this repository."
   ]
  },
  {
   "cell_type": "code",
   "execution_count": 3,
   "metadata": {},
   "outputs": [],
   "source": [
    "calendar_df = pd.read_csv(\"../data/calendar.csv.gz\")\n",
    "traffic_df = pd.read_csv(\"../data/hourly_traffic.csv.gz\")"
   ]
  },
  {
   "attachments": {},
   "cell_type": "markdown",
   "metadata": {},
   "source": [
    "Let's look at our first Pandas DataFrame."
   ]
  },
  {
   "cell_type": "code",
   "execution_count": 4,
   "metadata": {},
   "outputs": [
    {
     "data": {
      "text/html": [
       "<div>\n",
       "<style scoped>\n",
       "    .dataframe tbody tr th:only-of-type {\n",
       "        vertical-align: middle;\n",
       "    }\n",
       "\n",
       "    .dataframe tbody tr th {\n",
       "        vertical-align: top;\n",
       "    }\n",
       "\n",
       "    .dataframe thead th {\n",
       "        text-align: right;\n",
       "    }\n",
       "</style>\n",
       "<table border=\"1\" class=\"dataframe\">\n",
       "  <thead>\n",
       "    <tr style=\"text-align: right;\">\n",
       "      <th></th>\n",
       "      <th>CALENDAR_DATE</th>\n",
       "      <th>CALENDAR_WEEK_DAY_NBR</th>\n",
       "      <th>CALENDAR_MTH_DAY_NBR</th>\n",
       "      <th>CALENDAR_MTH</th>\n",
       "      <th>CALENDAR_YEAR</th>\n",
       "      <th>HOLIDAY_NAME</th>\n",
       "    </tr>\n",
       "  </thead>\n",
       "  <tbody>\n",
       "    <tr>\n",
       "      <th>0</th>\n",
       "      <td>2018-01-01</td>\n",
       "      <td>0</td>\n",
       "      <td>1</td>\n",
       "      <td>1</td>\n",
       "      <td>2018</td>\n",
       "      <td>New Year's Day</td>\n",
       "    </tr>\n",
       "    <tr>\n",
       "      <th>1</th>\n",
       "      <td>2018-01-02</td>\n",
       "      <td>1</td>\n",
       "      <td>2</td>\n",
       "      <td>1</td>\n",
       "      <td>2018</td>\n",
       "      <td>NaN</td>\n",
       "    </tr>\n",
       "    <tr>\n",
       "      <th>2</th>\n",
       "      <td>2018-01-03</td>\n",
       "      <td>2</td>\n",
       "      <td>3</td>\n",
       "      <td>1</td>\n",
       "      <td>2018</td>\n",
       "      <td>NaN</td>\n",
       "    </tr>\n",
       "    <tr>\n",
       "      <th>3</th>\n",
       "      <td>2018-01-04</td>\n",
       "      <td>3</td>\n",
       "      <td>4</td>\n",
       "      <td>1</td>\n",
       "      <td>2018</td>\n",
       "      <td>NaN</td>\n",
       "    </tr>\n",
       "    <tr>\n",
       "      <th>4</th>\n",
       "      <td>2018-01-05</td>\n",
       "      <td>4</td>\n",
       "      <td>5</td>\n",
       "      <td>1</td>\n",
       "      <td>2018</td>\n",
       "      <td>NaN</td>\n",
       "    </tr>\n",
       "  </tbody>\n",
       "</table>\n",
       "</div>"
      ],
      "text/plain": [
       "  CALENDAR_DATE  CALENDAR_WEEK_DAY_NBR  CALENDAR_MTH_DAY_NBR  CALENDAR_MTH  \\\n",
       "0    2018-01-01                      0                     1             1   \n",
       "1    2018-01-02                      1                     2             1   \n",
       "2    2018-01-03                      2                     3             1   \n",
       "3    2018-01-04                      3                     4             1   \n",
       "4    2018-01-05                      4                     5             1   \n",
       "\n",
       "   CALENDAR_YEAR    HOLIDAY_NAME  \n",
       "0           2018  New Year's Day  \n",
       "1           2018             NaN  \n",
       "2           2018             NaN  \n",
       "3           2018             NaN  \n",
       "4           2018             NaN  "
      ]
     },
     "execution_count": 4,
     "metadata": {},
     "output_type": "execute_result"
    }
   ],
   "source": [
    "calendar_df.head(5)"
   ]
  },
  {
   "attachments": {},
   "cell_type": "markdown",
   "metadata": {},
   "source": [
    "Let's get some information and describe both of these tables to see what we're working with."
   ]
  },
  {
   "cell_type": "code",
   "execution_count": 5,
   "metadata": {},
   "outputs": [
    {
     "name": "stdout",
     "output_type": "stream",
     "text": [
      "<class 'pandas.core.frame.DataFrame'>\n",
      "RangeIndex: 2922 entries, 0 to 2921\n",
      "Data columns (total 6 columns):\n",
      " #   Column                 Non-Null Count  Dtype \n",
      "---  ------                 --------------  ----- \n",
      " 0   CALENDAR_DATE          2922 non-null   object\n",
      " 1   CALENDAR_WEEK_DAY_NBR  2922 non-null   int64 \n",
      " 2   CALENDAR_MTH_DAY_NBR   2922 non-null   int64 \n",
      " 3   CALENDAR_MTH           2922 non-null   int64 \n",
      " 4   CALENDAR_YEAR          2922 non-null   int64 \n",
      " 5   HOLIDAY_NAME           85 non-null     object\n",
      "dtypes: int64(4), object(2)\n",
      "memory usage: 137.1+ KB\n"
     ]
    }
   ],
   "source": [
    "calendar_df.info()"
   ]
  },
  {
   "attachments": {},
   "cell_type": "markdown",
   "metadata": {},
   "source": [
    "We can adjust those \"object\" types to be more specific."
   ]
  },
  {
   "cell_type": "code",
   "execution_count": 6,
   "metadata": {},
   "outputs": [],
   "source": [
    "calendar_df[\"CALENDAR_DATE\"] = pd.to_datetime(calendar_df[\"CALENDAR_DATE\"])\n",
    "calendar_df[\"HOLIDAY_NAME\"] = calendar_df[\"HOLIDAY_NAME\"].astype(\"string\")"
   ]
  },
  {
   "attachments": {},
   "cell_type": "markdown",
   "metadata": {},
   "source": [
    "As of the time of this writing, the Snowpark DataFrame from Pandas method converts `datetime64[ns]` to `LongType()` Snowpark types representing [unix time](https://en.wikipedia.org/wiki/Unix_time). We can convert this specific column to make it easier to work with inside of Snowflake. We understand this to be a generic date, so that is what we will convert it to with the `to_date` function. \n",
    "\n",
    "Let's persist this table in Snowflake.\n",
    "\n",
    "I'm using the `overwrite` mode here, but in a typical workflow you would likely want to append to the table."
   ]
  },
  {
   "cell_type": "code",
   "execution_count": 7,
   "metadata": {},
   "outputs": [
    {
     "name": "stderr",
     "output_type": "stream",
     "text": [
      "create_temp_table is deprecated. We still respect this parameter when it is True but please consider using `table_type=\"temporary\"` instead.\n"
     ]
    }
   ],
   "source": [
    "session.create_dataframe(calendar_df).with_column(\n",
    "    \"CALENDAR_DATE\", to_date(cast(\"CALENDAR_DATE\", StringType()))\n",
    ").write.save_as_table(\"CALENDAR_INFO\", mode=\"overwrite\")"
   ]
  },
  {
   "attachments": {},
   "cell_type": "markdown",
   "metadata": {},
   "source": [
    "Let's peek at our table. We can also view the schema to see that the `CALENDAR_DATE` column is now a `DATE` type."
   ]
  },
  {
   "cell_type": "code",
   "execution_count": 8,
   "metadata": {},
   "outputs": [
    {
     "name": "stdout",
     "output_type": "stream",
     "text": [
      "--------------------------------------------------------------------------------------------------------------------------\n",
      "|\"CALENDAR_WEEK_DAY_NBR\"  |\"CALENDAR_MTH_DAY_NBR\"  |\"CALENDAR_MTH\"  |\"CALENDAR_YEAR\"  |\"HOLIDAY_NAME\"  |\"CALENDAR_DATE\"  |\n",
      "--------------------------------------------------------------------------------------------------------------------------\n",
      "|0                        |1                       |1               |2018             |New Year's Day  |2018-01-01       |\n",
      "|1                        |2                       |1               |2018             |NULL            |2018-01-02       |\n",
      "|2                        |3                       |1               |2018             |NULL            |2018-01-03       |\n",
      "|3                        |4                       |1               |2018             |NULL            |2018-01-04       |\n",
      "|4                        |5                       |1               |2018             |NULL            |2018-01-05       |\n",
      "|5                        |6                       |1               |2018             |NULL            |2018-01-06       |\n",
      "|6                        |7                       |1               |2018             |NULL            |2018-01-07       |\n",
      "|0                        |8                       |1               |2018             |NULL            |2018-01-08       |\n",
      "|1                        |9                       |1               |2018             |NULL            |2018-01-09       |\n",
      "|2                        |10                      |1               |2018             |NULL            |2018-01-10       |\n",
      "--------------------------------------------------------------------------------------------------------------------------\n",
      "\n"
     ]
    }
   ],
   "source": [
    "session.table(\"CALENDAR_INFO\").show()"
   ]
  },
  {
   "attachments": {},
   "cell_type": "markdown",
   "metadata": {},
   "source": [
    "Now for our other table for hourly traffic."
   ]
  },
  {
   "cell_type": "code",
   "execution_count": 9,
   "metadata": {},
   "outputs": [
    {
     "data": {
      "text/html": [
       "<div>\n",
       "<style scoped>\n",
       "    .dataframe tbody tr th:only-of-type {\n",
       "        vertical-align: middle;\n",
       "    }\n",
       "\n",
       "    .dataframe tbody tr th {\n",
       "        vertical-align: top;\n",
       "    }\n",
       "\n",
       "    .dataframe thead th {\n",
       "        text-align: right;\n",
       "    }\n",
       "</style>\n",
       "<table border=\"1\" class=\"dataframe\">\n",
       "  <thead>\n",
       "    <tr style=\"text-align: right;\">\n",
       "      <th></th>\n",
       "      <th>TIME_POINTS</th>\n",
       "      <th>HOURLY_TRAFFIC</th>\n",
       "      <th>HOLIDAY_NAME</th>\n",
       "      <th>STORE_ID</th>\n",
       "      <th>COLLEGE_TOWN</th>\n",
       "    </tr>\n",
       "  </thead>\n",
       "  <tbody>\n",
       "    <tr>\n",
       "      <th>0</th>\n",
       "      <td>2018-06-16 07:00:00</td>\n",
       "      <td>65</td>\n",
       "      <td>NaN</td>\n",
       "      <td>1</td>\n",
       "      <td>0</td>\n",
       "    </tr>\n",
       "    <tr>\n",
       "      <th>1</th>\n",
       "      <td>2018-06-16 08:00:00</td>\n",
       "      <td>58</td>\n",
       "      <td>NaN</td>\n",
       "      <td>1</td>\n",
       "      <td>0</td>\n",
       "    </tr>\n",
       "    <tr>\n",
       "      <th>2</th>\n",
       "      <td>2018-06-16 09:00:00</td>\n",
       "      <td>62</td>\n",
       "      <td>NaN</td>\n",
       "      <td>1</td>\n",
       "      <td>0</td>\n",
       "    </tr>\n",
       "    <tr>\n",
       "      <th>3</th>\n",
       "      <td>2018-06-16 10:00:00</td>\n",
       "      <td>67</td>\n",
       "      <td>NaN</td>\n",
       "      <td>1</td>\n",
       "      <td>0</td>\n",
       "    </tr>\n",
       "    <tr>\n",
       "      <th>4</th>\n",
       "      <td>2018-06-16 11:00:00</td>\n",
       "      <td>74</td>\n",
       "      <td>NaN</td>\n",
       "      <td>1</td>\n",
       "      <td>0</td>\n",
       "    </tr>\n",
       "  </tbody>\n",
       "</table>\n",
       "</div>"
      ],
      "text/plain": [
       "           TIME_POINTS  HOURLY_TRAFFIC HOLIDAY_NAME  STORE_ID  COLLEGE_TOWN\n",
       "0  2018-06-16 07:00:00              65          NaN         1             0\n",
       "1  2018-06-16 08:00:00              58          NaN         1             0\n",
       "2  2018-06-16 09:00:00              62          NaN         1             0\n",
       "3  2018-06-16 10:00:00              67          NaN         1             0\n",
       "4  2018-06-16 11:00:00              74          NaN         1             0"
      ]
     },
     "execution_count": 9,
     "metadata": {},
     "output_type": "execute_result"
    }
   ],
   "source": [
    "traffic_df.head()"
   ]
  },
  {
   "cell_type": "code",
   "execution_count": 10,
   "metadata": {},
   "outputs": [
    {
     "data": {
      "text/html": [
       "<div>\n",
       "<style scoped>\n",
       "    .dataframe tbody tr th:only-of-type {\n",
       "        vertical-align: middle;\n",
       "    }\n",
       "\n",
       "    .dataframe tbody tr th {\n",
       "        vertical-align: top;\n",
       "    }\n",
       "\n",
       "    .dataframe thead th {\n",
       "        text-align: right;\n",
       "    }\n",
       "</style>\n",
       "<table border=\"1\" class=\"dataframe\">\n",
       "  <thead>\n",
       "    <tr style=\"text-align: right;\">\n",
       "      <th></th>\n",
       "      <th>HOURLY_TRAFFIC</th>\n",
       "      <th>STORE_ID</th>\n",
       "      <th>COLLEGE_TOWN</th>\n",
       "    </tr>\n",
       "  </thead>\n",
       "  <tbody>\n",
       "    <tr>\n",
       "      <th>count</th>\n",
       "      <td>5.284600e+06</td>\n",
       "      <td>5.284600e+06</td>\n",
       "      <td>5.284600e+06</td>\n",
       "    </tr>\n",
       "    <tr>\n",
       "      <th>mean</th>\n",
       "      <td>4.222849e+01</td>\n",
       "      <td>1.005000e+02</td>\n",
       "      <td>5.150000e-01</td>\n",
       "    </tr>\n",
       "    <tr>\n",
       "      <th>std</th>\n",
       "      <td>2.990801e+01</td>\n",
       "      <td>5.773431e+01</td>\n",
       "      <td>4.997750e-01</td>\n",
       "    </tr>\n",
       "    <tr>\n",
       "      <th>min</th>\n",
       "      <td>0.000000e+00</td>\n",
       "      <td>1.000000e+00</td>\n",
       "      <td>0.000000e+00</td>\n",
       "    </tr>\n",
       "    <tr>\n",
       "      <th>25%</th>\n",
       "      <td>1.700000e+01</td>\n",
       "      <td>5.075000e+01</td>\n",
       "      <td>0.000000e+00</td>\n",
       "    </tr>\n",
       "    <tr>\n",
       "      <th>50%</th>\n",
       "      <td>3.100000e+01</td>\n",
       "      <td>1.005000e+02</td>\n",
       "      <td>1.000000e+00</td>\n",
       "    </tr>\n",
       "    <tr>\n",
       "      <th>75%</th>\n",
       "      <td>6.600000e+01</td>\n",
       "      <td>1.502500e+02</td>\n",
       "      <td>1.000000e+00</td>\n",
       "    </tr>\n",
       "    <tr>\n",
       "      <th>max</th>\n",
       "      <td>1.350000e+02</td>\n",
       "      <td>2.000000e+02</td>\n",
       "      <td>1.000000e+00</td>\n",
       "    </tr>\n",
       "  </tbody>\n",
       "</table>\n",
       "</div>"
      ],
      "text/plain": [
       "       HOURLY_TRAFFIC      STORE_ID  COLLEGE_TOWN\n",
       "count    5.284600e+06  5.284600e+06  5.284600e+06\n",
       "mean     4.222849e+01  1.005000e+02  5.150000e-01\n",
       "std      2.990801e+01  5.773431e+01  4.997750e-01\n",
       "min      0.000000e+00  1.000000e+00  0.000000e+00\n",
       "25%      1.700000e+01  5.075000e+01  0.000000e+00\n",
       "50%      3.100000e+01  1.005000e+02  1.000000e+00\n",
       "75%      6.600000e+01  1.502500e+02  1.000000e+00\n",
       "max      1.350000e+02  2.000000e+02  1.000000e+00"
      ]
     },
     "execution_count": 10,
     "metadata": {},
     "output_type": "execute_result"
    }
   ],
   "source": [
    "traffic_df.describe()"
   ]
  },
  {
   "cell_type": "code",
   "execution_count": 11,
   "metadata": {},
   "outputs": [
    {
     "name": "stdout",
     "output_type": "stream",
     "text": [
      "<class 'pandas.core.frame.DataFrame'>\n",
      "RangeIndex: 5284600 entries, 0 to 5284599\n",
      "Data columns (total 5 columns):\n",
      " #   Column          Dtype \n",
      "---  ------          ----- \n",
      " 0   TIME_POINTS     object\n",
      " 1   HOURLY_TRAFFIC  int64 \n",
      " 2   HOLIDAY_NAME    object\n",
      " 3   STORE_ID        int64 \n",
      " 4   COLLEGE_TOWN    int64 \n",
      "dtypes: int64(3), object(2)\n",
      "memory usage: 201.6+ MB\n"
     ]
    }
   ],
   "source": [
    "traffic_df.info()"
   ]
  },
  {
   "attachments": {},
   "cell_type": "markdown",
   "metadata": {},
   "source": [
    "STORE_ID and COLLEGE_TOWN probably need some adjustments, I don't imagine these columns will need to store numbers up to 9,223,372,036,854,775,807. Let's make them `int16` and `bool` respectively.\n",
    "\n",
    "We will similar conversion as we did with the previous DataFrame. For our time conversion, the `to_datetime` function will still let us use the hour value in the `TIME_POINTS` column."
   ]
  },
  {
   "cell_type": "code",
   "execution_count": 12,
   "metadata": {},
   "outputs": [],
   "source": [
    "traffic_df[\"STORE_ID\"] = pd.to_numeric(traffic_df[\"STORE_ID\"], downcast=\"signed\")\n",
    "traffic_df[\"COLLEGE_TOWN\"] = traffic_df[\"COLLEGE_TOWN\"].astype(\"boolean\")\n",
    "traffic_df[\"TIME_POINTS\"] = pd.to_datetime(traffic_df[\"TIME_POINTS\"])\n",
    "traffic_df[\"HOLIDAY_NAME\"] = traffic_df[\"HOLIDAY_NAME\"].astype(\"string\")"
   ]
  },
  {
   "cell_type": "code",
   "execution_count": 13,
   "metadata": {},
   "outputs": [
    {
     "name": "stdout",
     "output_type": "stream",
     "text": [
      "<class 'pandas.core.frame.DataFrame'>\n",
      "RangeIndex: 5284600 entries, 0 to 5284599\n",
      "Data columns (total 5 columns):\n",
      " #   Column          Dtype         \n",
      "---  ------          -----         \n",
      " 0   TIME_POINTS     datetime64[ns]\n",
      " 1   HOURLY_TRAFFIC  int64         \n",
      " 2   HOLIDAY_NAME    string        \n",
      " 3   STORE_ID        int16         \n",
      " 4   COLLEGE_TOWN    boolean       \n",
      "dtypes: boolean(1), datetime64[ns](1), int16(1), int64(1), string(1)\n",
      "memory usage: 141.1 MB\n"
     ]
    }
   ],
   "source": [
    "traffic_df.info()"
   ]
  },
  {
   "attachments": {},
   "cell_type": "markdown",
   "metadata": {},
   "source": [
    "Yay, less memory. 🎉 Our memory usage in this example went from 201.6+ MB to 141.1 MB. \n",
    "\n",
    "Finally, we'll create our Snowflake table."
   ]
  },
  {
   "cell_type": "code",
   "execution_count": 14,
   "metadata": {},
   "outputs": [],
   "source": [
    "session.create_dataframe(traffic_df).with_column(\n",
    "    \"TIME_POINTS\", to_timestamp(cast(\"TIME_POINTS\", StringType()))\n",
    ").write.save_as_table(\"HOURLY_TRAFFIC\", mode=\"overwrite\")"
   ]
  },
  {
   "attachments": {},
   "cell_type": "markdown",
   "metadata": {},
   "source": [
    "Let's preview our table."
   ]
  },
  {
   "cell_type": "code",
   "execution_count": 15,
   "metadata": {},
   "outputs": [
    {
     "name": "stdout",
     "output_type": "stream",
     "text": [
      "-----------------------------------------------------------------------------------------\n",
      "|\"HOURLY_TRAFFIC\"  |\"HOLIDAY_NAME\"  |\"STORE_ID\"  |\"COLLEGE_TOWN\"  |\"TIME_POINTS\"        |\n",
      "-----------------------------------------------------------------------------------------\n",
      "|65                |NULL            |1           |False           |2018-06-16 07:00:00  |\n",
      "|58                |NULL            |1           |False           |2018-06-16 08:00:00  |\n",
      "|62                |NULL            |1           |False           |2018-06-16 09:00:00  |\n",
      "|67                |NULL            |1           |False           |2018-06-16 10:00:00  |\n",
      "|74                |NULL            |1           |False           |2018-06-16 11:00:00  |\n",
      "|75                |NULL            |1           |False           |2018-06-16 12:00:00  |\n",
      "|81                |NULL            |1           |False           |2018-06-16 13:00:00  |\n",
      "|29                |NULL            |1           |False           |2018-06-16 14:00:00  |\n",
      "|31                |NULL            |1           |False           |2018-06-16 15:00:00  |\n",
      "|60                |NULL            |1           |False           |2018-06-16 16:00:00  |\n",
      "|64                |NULL            |1           |False           |2018-06-16 17:00:00  |\n",
      "|57                |NULL            |1           |False           |2018-06-16 18:00:00  |\n",
      "|69                |NULL            |1           |False           |2018-06-16 19:00:00  |\n",
      "|66                |NULL            |1           |False           |2018-06-16 20:00:00  |\n",
      "|2                 |NULL            |1           |False           |2018-06-16 21:00:00  |\n",
      "-----------------------------------------------------------------------------------------\n",
      "\n"
     ]
    }
   ],
   "source": [
    "session.table(\"HOURLY_TRAFFIC\").show(20)"
   ]
  }
 ],
 "metadata": {
  "kernelspec": {
   "display_name": "venv",
   "language": "python",
   "name": "python3"
  },
  "language_info": {
   "codemirror_mode": {
    "name": "ipython",
    "version": 3
   },
   "file_extension": ".py",
   "mimetype": "text/x-python",
   "name": "python",
   "nbconvert_exporter": "python",
   "pygments_lexer": "ipython3",
   "version": "3.8.10"
  },
  "vscode": {
   "interpreter": {
    "hash": "cf8196c85cf80e80f18b2f1589596093cecb8e71a52b143ec11d026c8e782417"
   }
  }
 },
 "nbformat": 4,
 "nbformat_minor": 2
}
